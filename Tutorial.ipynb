{
  "nbformat": 4,
  "nbformat_minor": 0,
  "metadata": {
    "kernelspec": {
      "display_name": "Python 3",
      "language": "python",
      "name": "python3"
    },
    "language_info": {
      "codemirror_mode": {
        "name": "ipython",
        "version": 3
      },
      "file_extension": ".py",
      "mimetype": "text/x-python",
      "name": "python",
      "nbconvert_exporter": "python",
      "pygments_lexer": "ipython3",
      "version": "3.6.7"
    },
    "colab": {
      "name": "Tutorial.ipynb",
      "provenance": []
    }
  },
  "cells": [
    {
      "cell_type": "markdown",
      "metadata": {
        "id": "mONzHoq8vj_6",
        "colab_type": "text"
      },
      "source": [
        "# Introducción a los notebooks de Jupyter"
      ]
    },
    {
      "cell_type": "markdown",
      "metadata": {
        "id": "F-vGmkMHvkAA",
        "colab_type": "text"
      },
      "source": [
        "En este documento se explica todo lo necesario para utilizar los notebooks de Jupyter. En la sección 1 se explican las nociones básicas; y en la sección 2, se introducen una serie de utilidades algo más avanzadas."
      ]
    },
    {
      "cell_type": "markdown",
      "metadata": {
        "id": "yLNqieeEvkAF",
        "colab_type": "text"
      },
      "source": [
        "## Sección 1: Lo básico"
      ]
    },
    {
      "cell_type": "markdown",
      "metadata": {
        "id": "tnUIWSjrvkAI",
        "colab_type": "text"
      },
      "source": [
        "### Introducción"
      ]
    },
    {
      "cell_type": "markdown",
      "metadata": {
        "id": "taUFdhpIvkAM",
        "colab_type": "text"
      },
      "source": [
        "Vamos a empezar por lo básico: ¿qué es un notebook de Jupyter? Un notebook de Jupyter es un documento hecho de celdas. Existen dos tipos principales de celdas: las celdas de texto (o *markdown cells*), como la actual; y las céldas de código, como la celda de abajo."
      ]
    },
    {
      "cell_type": "code",
      "metadata": {
        "id": "EWldWbzXvkAS",
        "colab_type": "code",
        "colab": {},
        "outputId": "7c94a6e8-d606-41f3-cae0-6dab21d57d2f"
      },
      "source": [
        "1+1"
      ],
      "execution_count": 0,
      "outputs": [
        {
          "output_type": "execute_result",
          "data": {
            "text/plain": [
              "2"
            ]
          },
          "metadata": {
            "tags": []
          },
          "execution_count": 0
        }
      ]
    },
    {
      "cell_type": "markdown",
      "metadata": {
        "id": "yAW6ZEH-vkAf",
        "colab_type": "text"
      },
      "source": [
        "Esta combinación de texto y código hace que los notebooks de Jupyter sean la herramienta ideal para realizar experimentos: podemos ver las explicaciones, código y resultados de un experimento en un único documento. \n",
        "\n",
        "Existen muchas instituciones tanto universitarias como en la industria que usan los notebooks de Jupyter: Google, Microsoft, IBM, Bloomberg, Berkeley y la NASA entre otros. Incluso ganadores del nobel de economía [usan notebooks de  Jupyter](https://paulromer.net/jupyter-mathematica-and-the-future-of-the-research-paper/) para sus experimentos, y hay incluso quien sugiere que los notebooks de Jupyter pronto serán [el nuevo formato para escribir artículos de investigación](https://www.theatlantic.com/science/archive/2018/04/the-scientific-paper-is-obsolete/556676/)."
      ]
    },
    {
      "cell_type": "markdown",
      "metadata": {
        "id": "jkslgxwQvkAh",
        "colab_type": "text"
      },
      "source": [
        "### Escribiendo"
      ]
    },
    {
      "cell_type": "markdown",
      "metadata": {
        "id": "XrUer_FgvkAj",
        "colab_type": "text"
      },
      "source": [
        "Un tipo de celda en la que puedes escribir se llama _Markdown_. [_Markdown_](https://es.wikipedia.org/wiki/Markdown) es un lenguaje de marcas muy popular. Para especificar que una celda es de tipo _Markdown_ necesitas hacer click en el menú desplegable de la barra de herramientas y seleccionar _Markdown_."
      ]
    },
    {
      "cell_type": "markdown",
      "metadata": {
        "id": "Iee2G6lTvkAn",
        "colab_type": "text"
      },
      "source": [
        "Haz click en el botón '+' que aparece a la izquierda en la barra de herramientas y selecciona _Markdown_ en el desplegable."
      ]
    },
    {
      "cell_type": "markdown",
      "metadata": {
        "id": "NYJ-fy76vkAp",
        "colab_type": "text"
      },
      "source": [
        "Ahora puedes escribir tu primera celda de _Markdown_. Escribe 'Mi primera celda de markdown' y pulsa el botón Run."
      ]
    },
    {
      "cell_type": "markdown",
      "metadata": {
        "id": "fnK1pskrvkAt",
        "colab_type": "text"
      },
      "source": [
        "![add](https://github.com/IA1819/tutorial-notebooks-jopelle/blob/master/notebook_tutorial/add.png?raw=1)"
      ]
    },
    {
      "cell_type": "markdown",
      "metadata": {
        "id": "Qe7nwn-hvkAw",
        "colab_type": "text"
      },
      "source": [
        "Deberías ver algo como lo siguiente."
      ]
    },
    {
      "cell_type": "markdown",
      "metadata": {
        "id": "GCqYB7a4vkAz",
        "colab_type": "text"
      },
      "source": [
        "Mi primera celda de markdown"
      ]
    },
    {
      "cell_type": "markdown",
      "metadata": {
        "id": "0QsMlzI5vkA1",
        "colab_type": "text"
      },
      "source": [
        "Ahora vamos a crear nuestra primera celda de código. Sigue los mismo pasos de antes, pero en este caso no cambies el tipo de celda (cuando añades una nueva celda esta por defecto tiene el tipo código). Escribe en dicha celda algo como 3/2 y pulsa el botón Run."
      ]
    },
    {
      "cell_type": "markdown",
      "metadata": {
        "id": "BSFi0h_FvkA5",
        "colab_type": "text"
      },
      "source": [
        "### Modos"
      ]
    },
    {
      "cell_type": "markdown",
      "metadata": {
        "id": "h1GpYqMpvkA7",
        "colab_type": "text"
      },
      "source": [
        "Si comentes un error en tu celda de *Markdown* y ya la has ejectuado podras darte cuenta que no puedes editarla simplemente haciendo click en ella. Esto es debido a que te encuentras en el **modo comando**. Los notebooks de Jupyter tienen dos modos:\n",
        "\n",
        "1. **Modo edición**: permite editar el contenido de una celda.\n",
        "2. **Modo comando**: permite editar el notebook como un todo y usar atajos de teclado pero no editar el contenido de una celda.\n",
        "\n",
        "Puedes cambiar de modo pulsando las teclas <kbd>ESC</kbd> y <kbd>Enter</kbd> o haciendo click fuera o dentro de una celda (necesitarás hacer doble click si es una celda de markdown). Siempre puedes saber en qué modo te encuentras ya que las celdas tienen un borde verde cuando estás en modo edición y un borde azul cuando estás en modo comando. Puedes comprobarlo por ti mismo."
      ]
    },
    {
      "cell_type": "markdown",
      "metadata": {
        "id": "Dac6YlBbvkA8",
        "colab_type": "text"
      },
      "source": [
        "### Otras cuestiones importantes"
      ]
    },
    {
      "cell_type": "markdown",
      "metadata": {
        "id": "mlc0OXy8vkA_",
        "colab_type": "text"
      },
      "source": [
        "1. Tu notebook se guarda automáticamente cada 120 segundos. Si quieres guardarlo manualmente puedes hacerlo pulsando el botón de guardar en la barra de herramientas o pulsando la tecla <kbd>s</kbd> cuando estés en modo comando. "
      ]
    },
    {
      "cell_type": "markdown",
      "metadata": {
        "id": "QRBr0mAGvkBA",
        "colab_type": "text"
      },
      "source": [
        "![Save](https://github.com/IA1819/tutorial-notebooks-jopelle/blob/master/notebook_tutorial/save.png?raw=1)"
      ]
    },
    {
      "cell_type": "markdown",
      "metadata": {
        "id": "sdtpGFxcvkBD",
        "colab_type": "text"
      },
      "source": [
        "2. Para saber si tu núcleo está realizando cálculos lo puedes comprobar en la esquina superior derecha. Si el punto está rellenado significa que tu núcleo está trabajando. Si no, es que está en reposo. "
      ]
    },
    {
      "cell_type": "markdown",
      "metadata": {
        "id": "_gb92PSLvkBH",
        "colab_type": "text"
      },
      "source": [
        "![Busy](https://github.com/IA1819/tutorial-notebooks-jopelle/blob/master/notebook_tutorial/busy.png?raw=1)"
      ]
    },
    {
      "cell_type": "markdown",
      "metadata": {
        "id": "WnRV7ritvkBL",
        "colab_type": "text"
      },
      "source": [
        "3. Hay una serie de atajos de teclado que es conveniente que conozcas (todos los atajos son para cuando te encuentras en modo comando). Estos son:\n",
        "\n",
        "<kbd>Shift</kbd>+<kbd>Enter</kbd>: Ejecuta el código de una celda.\n",
        "\n",
        "<kbd>Up Arrow</kbd>+<kbd>Down Arrow</kbd>: Te mueve a través de las celdas.\n",
        "\n",
        "<kbd>b</kbd>: Crea una nueva celda.\n",
        "\n",
        "<kbd>0</kbd>+<kbd>0</kbd>: Reinicia el núcleo.\n",
        "\n",
        "Puedes encontrar más atajos en la siguiente sección."
      ]
    },
    {
      "cell_type": "markdown",
      "metadata": {
        "id": "zjL3kRuvvkBN",
        "colab_type": "text"
      },
      "source": [
        "4. Puede que en algún momento necesites utilizar una terminal en el entorno de un notebook de Jupyter (por ejemplo para realizar un git pull en un repositorio). Esto es sencillo de hacer, simplemente pulsa 'New' en tu directorio 'home' y selecciona terminal. "
      ]
    },
    {
      "cell_type": "markdown",
      "metadata": {
        "id": "oaMrRRplvkBP",
        "colab_type": "text"
      },
      "source": [
        "![Terminal](https://github.com/IA1819/tutorial-notebooks-jopelle/blob/master/notebook_tutorial/terminal.png?raw=1)"
      ]
    },
    {
      "cell_type": "markdown",
      "metadata": {
        "id": "0zdUkzPHvkBR",
        "colab_type": "text"
      },
      "source": [
        "Esto es todo lo que necesitas conocer para usar los notebooks de Jupyter. Dicho esto a continuación se incluyen una serie de consejos y trucos. "
      ]
    },
    {
      "cell_type": "markdown",
      "metadata": {
        "id": "4CS_-GGSvkBS",
        "colab_type": "text"
      },
      "source": [
        "## Sección 2: Profundizando"
      ]
    },
    {
      "cell_type": "markdown",
      "metadata": {
        "hide_input": false,
        "id": "uL5CmUoSvkBU",
        "colab_type": "text"
      },
      "source": [
        "### Formato Markdown "
      ]
    },
    {
      "cell_type": "markdown",
      "metadata": {
        "id": "iA-WpbWCvkBX",
        "colab_type": "text"
      },
      "source": [
        "#### Cursiva, negrita, resaltando, bloques y enlaces\n"
      ]
    },
    {
      "cell_type": "markdown",
      "metadata": {
        "id": "Kn_D774avkBZ",
        "colab_type": "text"
      },
      "source": [
        "Los cinco conceptos más importantes que necesitas conocer para formatear tu código y texto de manera adecuada usando markdown son:\n",
        "    \n",
        "1. *Cursiva*: Pon tu texto entre '\\_' o '\\*'\n",
        "2. **Bold**: Pon tu texto entre '\\__' o '\\**'\n",
        "3. `resaltado`: Pon tu texto entre '\\`'\n",
        "4.  > blockquote: Pon '\\>' antes de tu texto.\n",
        "5.  [Enlaces](http://www.unirioja.es/): Pon el texto que quieres enlazar entre '\\[\\]' y coloca el enlace seguidamente entre '()'\n"
      ]
    },
    {
      "cell_type": "markdown",
      "metadata": {
        "id": "yDcbXzcvvkBb",
        "colab_type": "text"
      },
      "source": [
        "#### Encabezados"
      ]
    },
    {
      "cell_type": "markdown",
      "metadata": {
        "id": "Un0jkW7MvkBd",
        "colab_type": "text"
      },
      "source": [
        "Cuando pones una almohadilla delante de tu texto en una celda de markdown esto hace que el texto sea un encabezado. El número de almohadillas que incluyas indicará la prioridad del encabezado ('#' es nivel uno, '##' es nivel dos, '###' es nivel tres, y '####' es nivel cuatro)."
      ]
    },
    {
      "cell_type": "markdown",
      "metadata": {
        "id": "-ARsdo4HvkBi",
        "colab_type": "text"
      },
      "source": [
        "#### Listas"
      ]
    },
    {
      "cell_type": "markdown",
      "metadata": {
        "id": "Gg2kxDabvkBj",
        "colab_type": "text"
      },
      "source": [
        "Existen tres tipos de listas en markdown."
      ]
    },
    {
      "cell_type": "markdown",
      "metadata": {
        "id": "KipBbRACvkBk",
        "colab_type": "text"
      },
      "source": [
        "Listas ordenadas:\n",
        "\n",
        "1. Paso 1\n",
        "    2. Paso 1B\n",
        "3. Paso 3"
      ]
    },
    {
      "cell_type": "markdown",
      "metadata": {
        "id": "sFt8kmrhvkBn",
        "colab_type": "text"
      },
      "source": [
        "Listas no ordenadas\n",
        "\n",
        "* manzanas\n",
        "* peras\n",
        "* naranjas"
      ]
    },
    {
      "cell_type": "markdown",
      "metadata": {
        "id": "MIbgX3CYvkBp",
        "colab_type": "text"
      },
      "source": [
        "Listas de tareas:\n",
        "\n",
        "- [x] Aprender como usar notebooks de Jupyter.\n",
        "    - [x] Escribir\n",
        "    - [x] Modos\n",
        "    - [x] Otros\n",
        "- [ ] Cambiar el mundo"
      ]
    },
    {
      "cell_type": "markdown",
      "metadata": {
        "id": "gA8c_LtAvkBt",
        "colab_type": "text"
      },
      "source": [
        "Haz doble click en cada una de ellas para ver cómo se han construido. "
      ]
    },
    {
      "cell_type": "markdown",
      "metadata": {
        "id": "570OtXh4vkBw",
        "colab_type": "text"
      },
      "source": [
        "### Capacidades de código"
      ]
    },
    {
      "cell_type": "markdown",
      "metadata": {
        "id": "g6MeUx82vkBy",
        "colab_type": "text"
      },
      "source": [
        "Las celdas de código son diferentes que las celdas de markdown en el sentido de que tienen asociada una salida de resultado. Esto significa que podemos mantener los resultados de nuestro código en los notebooks y compartirlos. Digamos que queremos incluir un gráfico que explique los resultados de un experimento. Para ello podemos ejecutar las celdas necesarias y guardar el notebook. La salida seguirá ahí cuando lo volvamos a abrirlo. Veámos un ejemplo ejecutando las siguientes celdas. "
      ]
    },
    {
      "cell_type": "code",
      "metadata": {
        "id": "HY9oxWcuvkBz",
        "colab_type": "code",
        "colab": {}
      },
      "source": [
        "# Importa las librerías necesarias\n",
        "import matplotlib.pyplot as plt"
      ],
      "execution_count": 0,
      "outputs": []
    },
    {
      "cell_type": "code",
      "metadata": {
        "id": "hd5sjMxUvkB7",
        "colab_type": "code",
        "colab": {},
        "outputId": "6e6a7efe-0323-4cab-ef0a-61f125933b9e"
      },
      "source": [
        "a = 1\n",
        "b = a + 1\n",
        "c = b + a + 1\n",
        "d = c + b + a + 1\n",
        "a, b, c ,d"
      ],
      "execution_count": 0,
      "outputs": [
        {
          "output_type": "execute_result",
          "data": {
            "text/plain": [
              "(1, 2, 4, 8)"
            ]
          },
          "metadata": {
            "tags": []
          },
          "execution_count": 2
        }
      ]
    },
    {
      "cell_type": "code",
      "metadata": {
        "id": "f5ASH8HLvkCO",
        "colab_type": "code",
        "colab": {},
        "outputId": "56958032-ec38-433b-ee22-9bc95340eba5"
      },
      "source": [
        "plt.plot([a,b,c,d])\n",
        "plt.show()"
      ],
      "execution_count": 0,
      "outputs": [
        {
          "output_type": "display_data",
          "data": {
            "image/png": "[encoded data removed]",
            "text/plain": [
              "<Figure size 432x288 with 1 Axes>"
            ]
          },
          "metadata": {
            "tags": [],
            "needs_background": "light"
          }
        }
      ]
    },
    {
      "cell_type": "markdown",
      "metadata": {
        "id": "Mp2aEMhfvkCW",
        "colab_type": "text"
      },
      "source": [
        "### Creando un notebook"
      ]
    },
    {
      "cell_type": "markdown",
      "metadata": {
        "id": "p3Dv0r53vkCW",
        "colab_type": "text"
      },
      "source": [
        "Haz click en 'New' en la esquina superior derecha de tu 'Home' y selecciona 'Python 3' en la lista desplegable. \n",
        "\n",
        "![new_notebook](https://github.com/IA1819/tutorial-notebooks-jopelle/blob/master/notebook_tutorial/new_notebook.png?raw=1)"
      ]
    },
    {
      "cell_type": "markdown",
      "metadata": {
        "id": "Zr3XKyNuvkCY",
        "colab_type": "text"
      },
      "source": [
        "### Atajos de teclado y trucos "
      ]
    },
    {
      "cell_type": "markdown",
      "metadata": {
        "id": "W-fZSLvpvkCZ",
        "colab_type": "text"
      },
      "source": [
        "#### Atajos de teclado"
      ]
    },
    {
      "cell_type": "markdown",
      "metadata": {
        "id": "cL-zfDSGvkCa",
        "colab_type": "text"
      },
      "source": [
        "Existen una serie de atajos de teclado que pueden ser útiles en el modo comando. "
      ]
    },
    {
      "cell_type": "markdown",
      "metadata": {
        "id": "hxm1qdy0vkCb",
        "colab_type": "text"
      },
      "source": [
        "<kbd>m</kbd>: Convierte la celda a markdown."
      ]
    },
    {
      "cell_type": "markdown",
      "metadata": {
        "id": "ahIzYQLsvkCd",
        "colab_type": "text"
      },
      "source": [
        "<kbd>y</kbd>: Convierte la celda a código."
      ]
    },
    {
      "cell_type": "markdown",
      "metadata": {
        "id": "2y4Hvb5ZvkCf",
        "colab_type": "text"
      },
      "source": [
        "<kbd>D</kbd>+<kbd>D</kbd>: Elimina la celda."
      ]
    },
    {
      "cell_type": "markdown",
      "metadata": {
        "id": "-Jf0gQT_vkCi",
        "colab_type": "text"
      },
      "source": [
        "<kbd>o</kbd>: Muestra u oculta la salida."
      ]
    },
    {
      "cell_type": "markdown",
      "metadata": {
        "id": "mZIU4KW3vkCj",
        "colab_type": "text"
      },
      "source": [
        "<kbd>Shift</kbd>+<kbd>Arrow up/Arrow down</kbd>: Selecciona múltiples celdas. Una vez que han sido seleccionadas puedes trabajar con todas ellas (ejecutar, copiar, pegar, etc.)."
      ]
    },
    {
      "cell_type": "markdown",
      "metadata": {
        "id": "HH02ExfZvkCl",
        "colab_type": "text"
      },
      "source": [
        "<kbd>Shift</kbd>+<kbd>M</kbd>: Combinar las celdas seleccionadas."
      ]
    },
    {
      "cell_type": "markdown",
      "metadata": {
        "id": "pHvFjb1dvkCn",
        "colab_type": "text"
      },
      "source": [
        "<kbd>Shift</kbd>+<kbd>Tab</kbd>: [pulsa una vez] Te indica qué parámetros pasarle a una función.\n",
        "<kbd>Shift</kbd>+<kbd>Tab</kbd>: [pulsa tres veces] Proporciona información adicional sobre el método."
      ]
    },
    {
      "cell_type": "markdown",
      "metadata": {
        "id": "rZpBpbhUvkCp",
        "colab_type": "text"
      },
      "source": [
        "#### Trucos en las celdas."
      ]
    },
    {
      "cell_type": "markdown",
      "metadata": {
        "id": "0qzOgjLgvkCq",
        "colab_type": "text"
      },
      "source": [
        "Ejecuta la siguiente celda."
      ]
    },
    {
      "cell_type": "code",
      "metadata": {
        "id": "Lx7HhcxgvkCq",
        "colab_type": "code",
        "colab": {}
      },
      "source": [
        "from numpy import *"
      ],
      "execution_count": 0,
      "outputs": []
    },
    {
      "cell_type": "markdown",
      "metadata": {
        "id": "Hg4rUYhQvkCu",
        "colab_type": "text"
      },
      "source": [
        "Existen una serie detrucos que puedes utilizar cuando estás en una celda de código."
      ]
    },
    {
      "cell_type": "markdown",
      "metadata": {
        "id": "MDSgPxhtvkCw",
        "colab_type": "text"
      },
      "source": [
        "`?nombre-de-funcion`: Muestra la definición y el docstring de una función."
      ]
    },
    {
      "cell_type": "code",
      "metadata": {
        "id": "ii8MXAFnvkCz",
        "colab_type": "code",
        "colab": {}
      },
      "source": [
        "?slice"
      ],
      "execution_count": 0,
      "outputs": []
    },
    {
      "cell_type": "markdown",
      "metadata": {
        "id": "5Z0YldpvvkC4",
        "colab_type": "text"
      },
      "source": [
        "`??nombre-de-función`: Muestra el código fuente de la función."
      ]
    },
    {
      "cell_type": "code",
      "metadata": {
        "id": "MoY9EJEJvkC4",
        "colab_type": "code",
        "colab": {}
      },
      "source": [
        "??slice"
      ],
      "execution_count": 0,
      "outputs": []
    },
    {
      "cell_type": "markdown",
      "metadata": {
        "id": "_Kx1ihAkvkC9",
        "colab_type": "text"
      },
      "source": [
        "#### Líneas mágicas"
      ]
    },
    {
      "cell_type": "markdown",
      "metadata": {
        "id": "d6CWr0YIvkC-",
        "colab_type": "text"
      },
      "source": [
        "Las líneas mágicas son funciones que se pueden ejecutar en las celdas y toman como argumento el resto de la línea desde las cuales han sido llamadas. Puedes utilizarlas poniendo un signo '%' delante del comando. Las más útiles son las siguientes:"
      ]
    },
    {
      "cell_type": "markdown",
      "metadata": {
        "id": "Tc8lTBZgvkC_",
        "colab_type": "text"
      },
      "source": [
        "`%matplotlib inline`: Este comando se asegura que todos los gráficos de matplotlib se muestran en una celda del notebook y que serán mantenidos al guardar el notebook."
      ]
    },
    {
      "cell_type": "markdown",
      "metadata": {
        "id": "oftcMIrHvkDA",
        "colab_type": "text"
      },
      "source": [
        "`%reload_ext autoreload`, `%autoreload 2`: Recarga todos los módulos antes de ejecutar una nueva línea. Si un módulo ha sido editado, no es necesario reejecutar los comandos import ya que los módulos son recargados de manera automática. "
      ]
    },
    {
      "cell_type": "markdown",
      "metadata": {
        "id": "eg8eJAnPvkDB",
        "colab_type": "text"
      },
      "source": [
        "Estos tres comandos siempre deberían ir al principio de cualquier notebook."
      ]
    },
    {
      "cell_type": "code",
      "metadata": {
        "id": "OP5VXT9NvkDD",
        "colab_type": "code",
        "colab": {}
      },
      "source": [
        "%matplotlib inline\n",
        "%reload_ext autoreload\n",
        "%autoreload 2"
      ],
      "execution_count": 0,
      "outputs": []
    },
    {
      "cell_type": "markdown",
      "metadata": {
        "id": "342Mu2XWvkDJ",
        "colab_type": "text"
      },
      "source": [
        "`%timeit`: Ejecuta una línea diez mil veces y muestra el tiempo medio que costó ejecutarla."
      ]
    },
    {
      "cell_type": "code",
      "metadata": {
        "id": "LwyOX1zUvkDL",
        "colab_type": "code",
        "colab": {},
        "outputId": "acf90f7d-723c-46ae-e326-c51a588989aa"
      },
      "source": [
        "%timeit [i+1 for i in range(1000)]"
      ],
      "execution_count": 0,
      "outputs": [
        {
          "output_type": "stream",
          "text": [
            "40.7 µs ± 623 ns per loop (mean ± std. dev. of 7 runs, 10000 loops each)\n"
          ],
          "name": "stdout"
        }
      ]
    }
  ]
}