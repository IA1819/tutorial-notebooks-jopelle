{
  "nbformat": 4,
  "nbformat_minor": 0,
  "metadata": {
    "kernelspec": {
      "display_name": "Python 3",
      "language": "python",
      "name": "python3"
    },
    "language_info": {
      "codemirror_mode": {
        "name": "ipython",
        "version": 3
      },
      "file_extension": ".py",
      "mimetype": "text/x-python",
      "name": "python",
      "nbconvert_exporter": "python",
      "pygments_lexer": "ipython3",
      "version": "3.6.7"
    },
    "colab": {
      "name": "k-means.ipynb",
      "provenance": []
    }
  },
  "cells": [
    {
      "cell_type": "markdown",
      "metadata": {
        "id": "uNL7zZnW0uDT",
        "colab_type": "text"
      },
      "source": [
        "# Eligiendo el número de clusters para k-means"
      ]
    },
    {
      "cell_type": "markdown",
      "metadata": {
        "id": "KsqomGmC0uDW",
        "colab_type": "text"
      },
      "source": [
        "## El método del codo"
      ]
    },
    {
      "cell_type": "markdown",
      "metadata": {
        "id": "b8QS33fd0uDY",
        "colab_type": "text"
      },
      "source": [
        "Cargamos las librerías necesarias"
      ]
    },
    {
      "cell_type": "code",
      "metadata": {
        "id": "Cb-SPJiY0uDZ",
        "colab_type": "code",
        "colab": {}
      },
      "source": [
        "import numpy as np\n",
        "import matplotlib.pyplot as plt\n",
        "from sklearn import metrics\n",
        "from sklearn.cluster import KMeans\n",
        "from sklearn.datasets import make_blobs\n",
        "import matplotlib.pyplot as plt\n",
        "%matplotlib inline"
      ],
      "execution_count": 0,
      "outputs": []
    },
    {
      "cell_type": "markdown",
      "metadata": {
        "id": "bnR8zqir0uDd",
        "colab_type": "text"
      },
      "source": [
        "Generamos un dataset y lo mostramos"
      ]
    },
    {
      "cell_type": "code",
      "metadata": {
        "id": "aHB1g-Jh0uDd",
        "colab_type": "code",
        "colab": {}
      },
      "source": [
        "dataset ,_ = make_blobs(n_samples=500,\n",
        "                  n_features=2,\n",
        "                  centers=4,\n",
        "                  cluster_std=1,\n",
        "                  center_box=(-10.0, 10.0),\n",
        "                  shuffle=True,\n",
        "                  random_state=1)  # For reproducibility"
      ],
      "execution_count": 0,
      "outputs": []
    },
    {
      "cell_type": "code",
      "metadata": {
        "id": "okh0L-dz1A9z",
        "colab_type": "code",
        "colab": {}
      },
      "source": [
        "plt.figure()\n",
        "plt.title('Dataset')\n",
        "plt.scatter(dataset[:, 0], dataset[:, 1],s=5)\n",
        "plt.xticks(())\n",
        "plt.yticks(())\n",
        "plt.show()"
      ],
      "execution_count": 0,
      "outputs": []
    },
    {
      "cell_type": "code",
      "metadata": {
        "id": "qKOdbv4F0uDh",
        "colab_type": "code",
        "colab": {}
      },
      "source": [
        "costs = []\n",
        "for i in range(1,20):\n",
        "    est = KMeans(n_clusters=i)\n",
        "    est.fit(dataset)\n",
        "    costs.append(est.inertia_)\n",
        "\n",
        "plt.plot(range(1,20),costs,'ro')\n",
        "plt.axis([0,20,0,3500])\n",
        "plt.show()"
      ],
      "execution_count": 0,
      "outputs": []
    },
    {
      "cell_type": "markdown",
      "metadata": {
        "collapsed": true,
        "id": "zqdwlgLk0uDm",
        "colab_type": "text"
      },
      "source": [
        "## El método de las siluetas"
      ]
    },
    {
      "cell_type": "markdown",
      "metadata": {
        "id": "RoW4bwh90uDm",
        "colab_type": "text"
      },
      "source": [
        "Al igual que antes comenzamos cargando las librerías necesarias"
      ]
    },
    {
      "cell_type": "code",
      "metadata": {
        "id": "PM5DWwNT0uDo",
        "colab_type": "code",
        "colab": {}
      },
      "source": [
        "from sklearn.metrics import silhouette_samples, silhouette_score\n",
        "import matplotlib.cm as cm"
      ],
      "execution_count": 0,
      "outputs": []
    },
    {
      "cell_type": "markdown",
      "metadata": {
        "id": "5Rn7YM9B0uDr",
        "colab_type": "text"
      },
      "source": [
        "Vamos a generar las siluetas para el rango de clústeres de 2 a 9"
      ]
    },
    {
      "cell_type": "code",
      "metadata": {
        "id": "WFuq4DVn0uDt",
        "colab_type": "code",
        "colab": {}
      },
      "source": [
        "range_n_clusters = range(2,9)"
      ],
      "execution_count": 0,
      "outputs": []
    },
    {
      "cell_type": "markdown",
      "metadata": {
        "id": "sSPHOTkw0uDw",
        "colab_type": "text"
      },
      "source": [
        "Generamos los diagramas utilizando la siguiente función que toma el dataset y el número de clústeres. Se generan dos figuras, a la izquierda el gráfico de siluetas y a la derecha la distribución de clústeres"
      ]
    },
    {
      "cell_type": "code",
      "metadata": {
        "id": "q-DAeqY-0uDw",
        "colab_type": "code",
        "colab": {}
      },
      "source": [
        "def grafico_silueta(dataset,n_clusters):\n",
        "        X = dataset\n",
        "        # Create a subplot with 1 row and 2 columns\n",
        "        fig, (ax1, ax2) = plt.subplots(1, 2)\n",
        "        fig.set_size_inches(18, 7)\n",
        "\n",
        "        # The 1st subplot is the silhouette plot\n",
        "        # The silhouette coefficient can range from -1, 1 but in this example all\n",
        "        # lie within [-0.1, 1]\n",
        "        ax1.set_xlim([-0.1, 1])\n",
        "        # The (n_clusters+1)*10 is for inserting blank space between silhouette\n",
        "        # plots of individual clusters, to demarcate them clearly.\n",
        "        ax1.set_ylim([0, len(X) + (n_clusters + 1) * 10])\n",
        "\n",
        "        # Initialize the clusterer with n_clusters value and a random generator\n",
        "        # seed of 10 for reproducibility.\n",
        "        clusterer = KMeans(n_clusters=n_clusters, random_state=10)\n",
        "        cluster_labels = clusterer.fit_predict(X)\n",
        "\n",
        "        # The silhouette_score gives the average value for all the samples.\n",
        "        # This gives a perspective into the density and separation of the formed\n",
        "        # clusters\n",
        "        silhouette_avg = silhouette_score(X, cluster_labels)\n",
        "        print(\"For n_clusters =\", n_clusters,\n",
        "              \"The average silhouette_score is :\", silhouette_avg)\n",
        "\n",
        "        # Compute the silhouette scores for each sample\n",
        "        sample_silhouette_values = silhouette_samples(X, cluster_labels)\n",
        "\n",
        "        y_lower = 10\n",
        "        for i in range(n_clusters):\n",
        "            # Aggregate the silhouette scores for samples belonging to\n",
        "            # cluster i, and sort them\n",
        "            ith_cluster_silhouette_values = \\\n",
        "                sample_silhouette_values[cluster_labels == i]\n",
        "\n",
        "            ith_cluster_silhouette_values.sort()\n",
        "\n",
        "            size_cluster_i = ith_cluster_silhouette_values.shape[0]\n",
        "            y_upper = y_lower + size_cluster_i\n",
        "            \n",
        "            cmap = cm.get_cmap(\"Spectral\")\n",
        "            color = cmap(float(i) / n_clusters)\n",
        "            ax1.fill_betweenx(np.arange(y_lower, y_upper),\n",
        "                              0, ith_cluster_silhouette_values,\n",
        "                              facecolor=color, edgecolor=color, alpha=0.7)\n",
        "\n",
        "            # Label the silhouette plots with their cluster numbers at the middle\n",
        "            ax1.text(-0.05, y_lower + 0.5 * size_cluster_i, str(i))\n",
        "\n",
        "            # Compute the new y_lower for next plot\n",
        "            y_lower = y_upper + 10  # 10 for the 0 samples\n",
        "\n",
        "        ax1.set_title(\"The silhouette plot for the various clusters.\")\n",
        "        ax1.set_xlabel(\"The silhouette coefficient values\")\n",
        "        ax1.set_ylabel(\"Cluster label\")\n",
        "\n",
        "        # The vertical line for average silhouette score of all the values\n",
        "        ax1.axvline(x=silhouette_avg, color=\"red\", linestyle=\"--\")\n",
        "\n",
        "        ax1.set_yticks([])  # Clear the yaxis labels / ticks\n",
        "        ax1.set_xticks([-0.1, 0, 0.2, 0.4, 0.6, 0.8, 1])\n",
        "\n",
        "        # 2nd Plot showing the actual clusters formed\n",
        "        cmap = cm.get_cmap(\"Spectral\")\n",
        "        colors = cmap(cluster_labels.astype(float) / n_clusters)\n",
        "        ax2.scatter(X[:, 0], X[:, 1], marker='.', s=30, lw=0, alpha=0.7,\n",
        "                    c=colors, edgecolor='k')\n",
        "\n",
        "        # Labeling the clusters\n",
        "        centers = clusterer.cluster_centers_\n",
        "        # Draw white circles at cluster centers\n",
        "        ax2.scatter(centers[:, 0], centers[:, 1], marker='o',\n",
        "                    c=\"white\", alpha=1, s=200, edgecolor='k')\n",
        "\n",
        "        for i, c in enumerate(centers):\n",
        "            ax2.scatter(c[0], c[1], marker='$%d$' % i, alpha=1,\n",
        "                        s=50, edgecolor='k')\n",
        "\n",
        "        ax2.set_title(\"The visualization of the clustered data.\")\n",
        "        ax2.set_xlabel(\"Feature space for the 1st feature\")\n",
        "        ax2.set_ylabel(\"Feature space for the 2nd feature\")\n",
        "\n",
        "        plt.suptitle((\"Silhouette analysis for KMeans clustering on sample data \"\n",
        "                      \"with n_clusters = %d, silhouete value %f\" % (n_clusters,silhouette_avg)),\n",
        "                     fontsize=14, fontweight='bold')\n",
        "\n",
        "        \n",
        "        plt.savefig(\"%d-kmeans.jpg\" % n_clusters)\n",
        "\n",
        "        plt.show()\n",
        "        "
      ],
      "execution_count": 0,
      "outputs": []
    },
    {
      "cell_type": "markdown",
      "metadata": {
        "id": "r-vk8d-y0uD0",
        "colab_type": "text"
      },
      "source": [
        "Vemos el resultado para los distintos valores de k."
      ]
    },
    {
      "cell_type": "code",
      "metadata": {
        "id": "Gj1jV80T0uD1",
        "colab_type": "code",
        "colab": {}
      },
      "source": [
        "grafico_silueta(dataset,2)"
      ],
      "execution_count": 0,
      "outputs": []
    },
    {
      "cell_type": "code",
      "metadata": {
        "id": "bbvG8qDU0uD4",
        "colab_type": "code",
        "colab": {}
      },
      "source": [
        "grafico_silueta(dataset,3)"
      ],
      "execution_count": 0,
      "outputs": []
    },
    {
      "cell_type": "code",
      "metadata": {
        "id": "f3Oehj_v0uD8",
        "colab_type": "code",
        "colab": {}
      },
      "source": [
        "grafico_silueta(dataset,4)"
      ],
      "execution_count": 0,
      "outputs": []
    },
    {
      "cell_type": "code",
      "metadata": {
        "id": "FSOfHzZE0uD-",
        "colab_type": "code",
        "colab": {}
      },
      "source": [
        "grafico_silueta(dataset,5)"
      ],
      "execution_count": 0,
      "outputs": []
    },
    {
      "cell_type": "code",
      "metadata": {
        "id": "XIKRrcBY0uEC",
        "colab_type": "code",
        "colab": {}
      },
      "source": [
        "grafico_silueta(dataset,6)"
      ],
      "execution_count": 0,
      "outputs": []
    },
    {
      "cell_type": "code",
      "metadata": {
        "id": "SDTmi2qM1kMS",
        "colab_type": "code",
        "colab": {}
      },
      "source": [
        "grafico_silueta(dataset,7)"
      ],
      "execution_count": 0,
      "outputs": []
    },
    {
      "cell_type": "code",
      "metadata": {
        "id": "fZzQKYa61og7",
        "colab_type": "code",
        "colab": {}
      },
      "source": [
        "grafico_silueta(dataset,8)"
      ],
      "execution_count": 0,
      "outputs": []
    },
    {
      "cell_type": "markdown",
      "metadata": {
        "id": "JzF_cQ5X0uEE",
        "colab_type": "text"
      },
      "source": [
        "Como se puede observar, el valor de silueta más alto se obtiene con k=4, seguido muy de cerca por k=5. Por lo tanto estos son los valores óptimos.  "
      ]
    },
    {
      "cell_type": "code",
      "metadata": {
        "id": "CK2MdvP_0uEF",
        "colab_type": "code",
        "colab": {}
      },
      "source": [
        ""
      ],
      "execution_count": 0,
      "outputs": []
    }
  ]
}